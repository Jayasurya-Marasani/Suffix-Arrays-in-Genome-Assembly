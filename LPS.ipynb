{
 "cells": [
  {
   "cell_type": "code",
   "execution_count": 18,
   "metadata": {},
   "outputs": [
    {
     "name": "stdout",
     "output_type": "stream",
     "text": [
      "banana\n"
     ]
    }
   ],
   "source": [
    "s = input('Enter the String:\\n')\n",
    "print(s)\n"
   ]
  },
  {
   "cell_type": "code",
   "execution_count": 19,
   "metadata": {},
   "outputs": [
    {
     "data": {
      "text/plain": [
       "'banana#ananab'"
      ]
     },
     "execution_count": 19,
     "metadata": {},
     "output_type": "execute_result"
    }
   ],
   "source": [
    "s_new = s + '#' + s[::-1]\n",
    "s_new"
   ]
  },
  {
   "cell_type": "code",
   "execution_count": 20,
   "metadata": {},
   "outputs": [],
   "source": [
    "def suffix_array_alternative_naive(s):\n",
    "    return [rank for suffix, rank in sorted((s[i:], i) for i in range(len(s)))]"
   ]
  },
  {
   "cell_type": "code",
   "execution_count": 21,
   "metadata": {},
   "outputs": [],
   "source": [
    "def LCP(sa , s_new):\n",
    "    size = len(s_new)\n",
    "    r = [None]* size\n",
    "    for i in range(size):\n",
    "        r[sa[i]] = i\n",
    "    lcp = [None]*size\n",
    "    h = 0\n",
    "    print(r)\n",
    "    for i in range(size):\n",
    "        if r[i] > 0:\n",
    "            j = sa [r[i] - 1]\n",
    "            while i != size-h and j!= size-h and s_new[i+h] == s_new[j+h]:\n",
    "                h = h+1\n",
    "            lcp[r[i]] =h\n",
    "            if h > 0:\n",
    "                h = h - 1\n",
    "    if size>0:\n",
    "        lcp[0] = 0\n",
    "    return lcp"
   ]
  },
  {
   "cell_type": "code",
   "execution_count": 26,
   "metadata": {},
   "outputs": [
    {
     "name": "stdout",
     "output_type": "stream",
     "text": [
      "[6, 5, 11, 3, 9, 1, 7, 12, 0, 4, 10, 2, 8]\n",
      "#ananab\n",
      "a#ananab\n",
      "ab\n",
      "ana#ananab\n",
      "anab\n",
      "anana#ananab\n",
      "ananab\n",
      "b\n",
      "banana#ananab\n",
      "na#ananab\n",
      "nab\n",
      "nana#ananab\n",
      "nanab\n"
     ]
    }
   ],
   "source": [
    "sa = suffix_array_alternative_naive(s_new)\n",
    "print(sa)\n",
    "for i in range (len(s_new)):\n",
    "    print(s_new[sa[i]:])"
   ]
  },
  {
   "cell_type": "code",
   "execution_count": 23,
   "metadata": {},
   "outputs": [
    {
     "name": "stdout",
     "output_type": "stream",
     "text": [
      "[8, 5, 11, 3, 9, 1, 0, 6, 12, 4, 10, 2, 7]\n"
     ]
    },
    {
     "data": {
      "text/plain": [
       "[0, 0, 1, 1, 3, 3, 5, 0, 1, 0, 2, 2, 4]"
      ]
     },
     "execution_count": 23,
     "metadata": {},
     "output_type": "execute_result"
    }
   ],
   "source": [
    "lcp = LCP(sa,s_new)\n",
    "lcp"
   ]
  },
  {
   "cell_type": "code",
   "execution_count": 24,
   "metadata": {},
   "outputs": [],
   "source": [
    "def longestCommonPrefix(strs):\n",
    "    if len(strs) == 0:\n",
    "        return \"\"\n",
    "    current = strs[0]\n",
    "    for i in range(1, len(strs)):\n",
    "        temp = \"\"\n",
    "        if len(current) == 0:\n",
    "            break\n",
    "        for j in range(len(strs[i])):\n",
    "            if j < len(current) and current[j] == strs[i][j]:\n",
    "                temp += current[j]\n",
    "            else:\n",
    "                break\n",
    "        current = temp\n",
    "    return current"
   ]
  },
  {
   "cell_type": "code",
   "execution_count": 25,
   "metadata": {},
   "outputs": [
    {
     "name": "stdout",
     "output_type": "stream",
     "text": [
      "calculating longest prefixes between a#ananab and ab\n",
      "longest prefix between them is \"a\"\n",
      "The length is = 1\n",
      "Position =  11\n",
      "calculating longest prefixes between ana#ananab and anab\n",
      "longest prefix between them is \"ana\"\n",
      "The length is = 3\n",
      "Position =  9\n",
      "calculating longest prefixes between anana#ananab and ananab\n",
      "longest prefix between them is \"anana\"\n",
      "The length is = 5\n",
      "Position =  7\n",
      "Length of Longest Palindrome is =  5\n",
      "Longest Palindrome is =  anana\n"
     ]
    }
   ],
   "source": [
    "length_of_longest_palindrome = 0\n",
    "longest_length = 0\n",
    "Len = len(s_new)   # Length of updated string\n",
    "actual_len = len(s) # Length of original string\n",
    "Position = 0\n",
    "strs = [None]*2\n",
    "for i in range(1,Len):\n",
    "    \n",
    "    if lcp[i]>longest_length:\n",
    "        if(sa[i-1]<actual_len and sa[i]>actual_len) or (sa[i]<actual_len and sa[i-1]>actual_len):\n",
    "            print('calculating longest prefixes between {a} and {b}'.format(a = s_new[sa[i-1]:], b = s_new[sa[i]:]))\n",
    "            strs[0] = s_new[sa[i-1]:]\n",
    "            strs[1] = s_new[sa[i]:]\n",
    "            longest_length = lcp[i]\n",
    "            print('longest prefix between them is \"{}\"'.format(longestCommonPrefix(strs)))\n",
    "            print('The length is = {}'.format(longest_length))\n",
    "            Position = sa[i]\n",
    "            print(\"Position = \",Position)\n",
    "\n",
    "length_of_longest_palindrome = longest_length\n",
    "longest_palindrome = s_new[Position:Position+longest_length]\n",
    "print('Length of Longest Palindrome is = ',length_of_longest_palindrome)\n",
    "print('Longest Palindrome is = ',longest_palindrome)\n",
    "            "
   ]
  }
 ],
 "metadata": {
  "interpreter": {
   "hash": "3dc8e47f82edb7463ca464588a7358a3d93aa0e55ce1d99dfe2c7a888c7afeb3"
  },
  "kernelspec": {
   "display_name": "Python 3.10.1 64-bit",
   "language": "python",
   "name": "python3"
  },
  "language_info": {
   "codemirror_mode": {
    "name": "ipython",
    "version": 3
   },
   "file_extension": ".py",
   "mimetype": "text/x-python",
   "name": "python",
   "nbconvert_exporter": "python",
   "pygments_lexer": "ipython3",
   "version": "3.10.1"
  },
  "orig_nbformat": 4
 },
 "nbformat": 4,
 "nbformat_minor": 2
}
