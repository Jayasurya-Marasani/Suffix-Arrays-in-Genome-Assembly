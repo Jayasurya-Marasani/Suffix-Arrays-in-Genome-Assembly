{
 "cells": [
  {
   "cell_type": "markdown",
   "id": "a48ea6b0",
   "metadata": {},
   "source": [
    "# Finding the longest repeated substring"
   ]
  },
  {
   "cell_type": "code",
   "execution_count": 31,
   "id": "fc4abb7b",
   "metadata": {},
   "outputs": [],
   "source": [
    "def Construct_LCP_array(suffix_array, input_string):\n",
    "    n = len(suffix_array)\n",
    "    size = len(input_string)\n",
    "    r = [None] * size\n",
    "    for i in range(n):\n",
    "        r[suffix_array[i]] = i\n",
    "    lcp = [None] * size\n",
    "    lcp[0] = 0\n",
    "    h = 0\n",
    "    for i in range(size):\n",
    "        if r[i] > 0:\n",
    "            j = suffix_array[r[i] - 1]\n",
    "            while i != size - h and j != size - h and input_string[i + h] == input_string[j + h]:\n",
    "                h = h + 1\n",
    "            lcp[r[i]] = h\n",
    "            if h > 0:\n",
    "                h = h - 1\n",
    "    return lcp"
   ]
  },
  {
   "cell_type": "code",
   "execution_count": 32,
   "id": "c2cbdb1d",
   "metadata": {},
   "outputs": [],
   "source": [
    "def longestCommonPrefix(strs):\n",
    "    if len(strs) == 0:\n",
    "        return \"\"\n",
    "    current = strs[0]\n",
    "    for i in range(1, len(strs)):\n",
    "        temp = \"\"\n",
    "        if len(current) == 0:\n",
    "            break\n",
    "        for j in range(len(strs[i])):\n",
    "            if j < len(current) and current[j] == strs[i][j]:\n",
    "                temp += current[j]\n",
    "            else:\n",
    "                break\n",
    "        current = temp\n",
    "    return len(current)"
   ]
  },
  {
   "cell_type": "code",
   "execution_count": 33,
   "id": "587fe403",
   "metadata": {},
   "outputs": [],
   "source": [
    "def Construct_LCP_array(suffix_array, input_string):\n",
    "    \n",
    "    ordered_list = []\n",
    "    for i in suffix_array:\n",
    "        ordered_list.append(input_string[i:])\n",
    "    print(ordered_list)\n",
    "    list3 = [0]*len(ordered_list)\n",
    "    for i in range(0 , len(ordered_list)):\n",
    "        if i==0:\n",
    "            list3[i]=0\n",
    "        else:\n",
    "            strs=[ordered_list[i], ordered_list[i-1]]\n",
    "            list3[i]=longestCommonPrefix(strs)\n",
    "    return list3"
   ]
  },
  {
   "cell_type": "code",
   "execution_count": 34,
   "id": "1d2f2ea7",
   "metadata": {},
   "outputs": [],
   "source": [
    "def Construct_SuffixArray(input_str, len_str):\n",
    "    Suffix_array = []\n",
    "    Suffix_Dict = {}\n",
    "    Suffix_DictReverse = {}\n",
    "\n",
    "    for i in range(len_str):\n",
    "        permutation = input_str[i:len_str]\n",
    "        Suffix_Dict[i] = permutation\n",
    "        Suffix_DictReverse[permutation] = i\n",
    "\n",
    "    orderedList = sorted(Suffix_Dict.values())\n",
    "\n",
    "    for i in orderedList:\n",
    "        Suffix_array.append(Suffix_DictReverse[i])\n",
    "\n",
    "    return Suffix_array, Suffix_Dict"
   ]
  },
  {
   "cell_type": "code",
   "execution_count": 35,
   "id": "fc479fdb",
   "metadata": {},
   "outputs": [],
   "source": [
    "def main():\n",
    "    input_str = input(\"Enter the Input String : \")\n",
    "    len_str = len(input_str)\n",
    "    Suffix_array, suffix_dict = Construct_SuffixArray(input_str, len_str)\n",
    "    print(Suffix_array)\n",
    "    lcp = Construct_LCP_array(Suffix_array, input_str)\n",
    "    print(lcp)\n",
    "    idx = lcp.index(max(lcp))\n",
    "    idx_suffix = Suffix_array[idx]\n",
    "    result = suffix_dict[idx_suffix]\n",
    "    print(\"Input string: \" + input_str)\n",
    "    print(\"Longest repeated substring: \" + result[0:max(lcp)])"
   ]
  },
  {
   "cell_type": "code",
   "execution_count": 36,
   "id": "be97b6b4",
   "metadata": {},
   "outputs": [
    {
     "name": "stdout",
     "output_type": "stream",
     "text": [
      "[10, 7, 0, 3, 5, 8, 1, 4, 6, 9, 2]\n",
      "['A', 'ABRA', 'ABRACADABRA', 'ACADABRA', 'ADABRA', 'BRA', 'BRACADABRA', 'CADABRA', 'DABRA', 'RA', 'RACADABRA']\n",
      "[0, 1, 4, 1, 1, 0, 3, 0, 0, 0, 2]\n",
      "Input string: ABRACADABRA\n",
      "Longest repeated substring: ABRA\n"
     ]
    }
   ],
   "source": [
    "if __name__ == \"__main__\":      #ABRACADABRA\n",
    "    main()"
   ]
  },
  {
   "cell_type": "code",
   "execution_count": null,
   "id": "5ddf0e55",
   "metadata": {},
   "outputs": [],
   "source": []
  }
 ],
 "metadata": {
  "kernelspec": {
   "display_name": "Python 3",
   "language": "python",
   "name": "python3"
  },
  "language_info": {
   "codemirror_mode": {
    "name": "ipython",
    "version": 3
   },
   "file_extension": ".py",
   "mimetype": "text/x-python",
   "name": "python",
   "nbconvert_exporter": "python",
   "pygments_lexer": "ipython3",
   "version": "3.10.1"
  }
 },
 "nbformat": 4,
 "nbformat_minor": 5
}
