{
 "cells": [
  {
   "cell_type": "markdown",
   "metadata": {},
   "source": [
    "# Group 6 "
   ]
  },
  {
   "cell_type": "markdown",
   "metadata": {},
   "source": [
    " \n",
    " "
   ]
  },
  {
   "cell_type": "markdown",
   "metadata": {},
   "source": [
    "# Abhinandhu       AM.EN.U4AIE20002"
   ]
  },
  {
   "cell_type": "markdown",
   "metadata": {},
   "source": [
    "Suffix Array Construction"
   ]
  },
  {
   "cell_type": "code",
   "execution_count": 1,
   "metadata": {},
   "outputs": [
    {
     "name": "stdout",
     "output_type": "stream",
     "text": [
      "Enter the Input String : ATGCATA\n",
      "[6, 4, 0, 3, 2, 5, 1]\n"
     ]
    }
   ],
   "source": [
    "def Construct_SuffixArray(Input_str,len_str):\n",
    "    Suffix_array = []\n",
    "    Suffix_Dict = {}\n",
    "    Suffix_DictReverse = {}\n",
    "\n",
    "\n",
    "    for i in range(len_str):\n",
    "        permutation = Input_str[i:len_str]\n",
    "        Suffix_Dict[i]=permutation\n",
    "        Suffix_DictReverse[permutation]=i\n",
    " \n",
    "    orderedList = sorted(Suffix_Dict.values())\n",
    "    numberOfElements = len(orderedList)\n",
    "\n",
    "    for i in orderedList:\n",
    "         Suffix_array.append(Suffix_DictReverse[i])\n",
    "\n",
    "    return Suffix_array\n",
    "\n",
    "def main():\n",
    "    Input_str = input(\"Enter the Input String : \") #ATGCATA\n",
    "    len_str = len(Input_str)\n",
    "    Suffix_array = Construct_SuffixArray(Input_str,len_str)\n",
    "    print(Suffix_array)\n",
    "if __name__ == \"__main__\":\n",
    "   main()\n",
    "    "
   ]
  },
  {
   "cell_type": "markdown",
   "metadata": {},
   "source": [
    "Pattern Match\n"
   ]
  },
  {
   "cell_type": "code",
   "execution_count": 5,
   "metadata": {},
   "outputs": [
    {
     "name": "stdout",
     "output_type": "stream",
     "text": [
      "Enter the Input String : ATGCCGCAATG\n",
      "Enter the pattern to Search : ATG\n",
      "[8, 0]\n"
     ]
    }
   ],
   "source": [
    "def Construct_SuffixArray(Input_str,len_str):\n",
    "    Suffix_array = []\n",
    "    Suffix_Dict = {}\n",
    "    Suffix_DictReverse = {}\n",
    "\n",
    "\n",
    "    for i in range(len_str):\n",
    "        permutation = Input_str[i:len_str]\n",
    "        Suffix_Dict[i]=permutation\n",
    "        Suffix_DictReverse[permutation]=i\n",
    " \n",
    "    Sorted_List = sorted(Suffix_Dict.values())\n",
    "     \n",
    "\n",
    "    count = 0\n",
    "    for i in Sorted_List:\n",
    "         Suffix_array.append(Suffix_DictReverse[i])\n",
    "    #output += str(suffixDictReverse[i])\n",
    "         count += 1\n",
    "    return Suffix_array\n",
    "\n",
    "def Search_pattern(pattern ,Input_str,Suffix_array):\n",
    "    l = 0\n",
    "    r = len(Suffix_array) -1\n",
    "\n",
    "    while l < r: \n",
    "        mid_value = (l+r)//2 #set the middle to binary search\n",
    "        if Input_str[Suffix_array[mid_value]:] < pattern:\n",
    "            l = mid_value+1\n",
    "        else:\n",
    "            r = mid_value\n",
    "\n",
    "    def match_at(i):\n",
    "        return Input_str[i: i + len(pattern)] == pattern\n",
    "\n",
    "    if not match_at(Suffix_array[l]):\n",
    "        raise IndexError('NO MATCH FOUND')\n",
    "\n",
    "    # Suffix_array[l] is one match\n",
    "    # now we walk backwards to find the first match\n",
    "    first = l\n",
    "    \n",
    "    while first > 0 and match_at(Suffix_array[first - 1]):\n",
    "        print(match_at(Suffix_array[first - 1]))\n",
    "        first -= 1\n",
    "\n",
    "    # and walk forwards to find the last match\n",
    "    last = l\n",
    "    while last <len(Suffix_array) and match_at(Suffix_array[last]):\n",
    "        last += 1\n",
    "\n",
    "    return Suffix_array[first:last]\n",
    "\n",
    "\n",
    "        \n",
    "def main():\n",
    "    Input_str = input(\"Enter the Input String : \") #ATGCATCATG\n",
    "    len_str = len(Input_str)\n",
    "    pattern = input(\"Enter the pattern to Search : \") #ATG\n",
    "    Suffix_array = Construct_SuffixArray(Input_str,len_str)\n",
    "\n",
    "    print(Search_pattern(pattern,Input_str,Suffix_array))\n",
    "    \n",
    "if __name__ == \"__main__\":\n",
    "   main()    "
   ]
  },
  {
   "cell_type": "markdown",
   "metadata": {},
   "source": [
    " "
   ]
  },
  {
   "cell_type": "markdown",
   "metadata": {},
   "source": [
    "# Hariprasad S   AM.EN.U4AIE20035"
   ]
  },
  {
   "cell_type": "markdown",
   "metadata": {},
   "source": [
    "Finding the Longest Repeated Substring"
   ]
  },
  {
   "cell_type": "code",
   "execution_count": 6,
   "metadata": {},
   "outputs": [],
   "source": [
    "def longestCommonPrefix(strs):\n",
    "    if len(strs) == 0:\n",
    "        return \"\"\n",
    "    current = strs[0]\n",
    "    for i in range(1, len(strs)):\n",
    "        temp = \"\"\n",
    "        if len(current) == 0:\n",
    "            break\n",
    "        for j in range(len(strs[i])):\n",
    "            if j < len(current) and current[j] == strs[i][j]:\n",
    "                temp += current[j]\n",
    "            else:\n",
    "                break\n",
    "        current = temp\n",
    "    return len(current)"
   ]
  },
  {
   "cell_type": "code",
   "execution_count": 7,
   "metadata": {},
   "outputs": [],
   "source": [
    "def Construct_LCP_array(suffix_array, input_string):\n",
    "    ordered_list = []\n",
    "    for i in suffix_array:\n",
    "        ordered_list.append(input_string[i:])\n",
    "    list3 = [0]*len(ordered_list)\n",
    "    for i in range(0 , len(ordered_list)):\n",
    "        if i==0:\n",
    "            list3[i]=0\n",
    "        else:\n",
    "            strs=[ordered_list[i], ordered_list[i-1]]\n",
    "            list3[i]=longestCommonPrefix(strs)\n",
    "    return list3"
   ]
  },
  {
   "cell_type": "code",
   "execution_count": 8,
   "metadata": {},
   "outputs": [],
   "source": [
    "def Construct_SuffixArray(input_str, len_str):\n",
    "    Suffix_array = []\n",
    "    Suffix_Dict = {}\n",
    "    Suffix_DictReverse = {}\n",
    "\n",
    "    for i in range(len_str):\n",
    "        permutation = input_str[i:len_str]\n",
    "        Suffix_Dict[i] = permutation\n",
    "        Suffix_DictReverse[permutation] = i\n",
    "\n",
    "    orderedList = sorted(Suffix_Dict.values())\n",
    "\n",
    "    for i in orderedList:\n",
    "        Suffix_array.append(Suffix_DictReverse[i])\n",
    "\n",
    "    return Suffix_array, Suffix_Dict"
   ]
  },
  {
   "cell_type": "code",
   "execution_count": 10,
   "metadata": {},
   "outputs": [],
   "source": [
    "def main():\n",
    "    input_str = input(\"Enter the Input String : \")\n",
    "    len_str = len(input_str)\n",
    "    Suffix_array, suffix_dict = Construct_SuffixArray(input_str, len_str)\n",
    "    lcp = Construct_LCP_array(Suffix_array, input_str)\n",
    "    idx = lcp.index(max(lcp))\n",
    "    idx_suffix = Suffix_array[idx]\n",
    "    result = suffix_dict[idx_suffix]\n",
    "    print(\"Input string: \" + input_str)\n",
    "    print(\"Longest repeated substring: \" + result[0:max(lcp)])"
   ]
  },
  {
   "cell_type": "code",
   "execution_count": 11,
   "metadata": {},
   "outputs": [
    {
     "name": "stdout",
     "output_type": "stream",
     "text": [
      "Enter the Input String : ABRACADABRA\n",
      "Input string: ABRACADABRA\n",
      "Longest repeated substring: ABRA\n"
     ]
    }
   ],
   "source": [
    "if __name__ == \"__main__\":\n",
    "    main()"
   ]
  },
  {
   "cell_type": "markdown",
   "metadata": {},
   "source": [
    "| "
   ]
  },
  {
   "cell_type": "markdown",
   "metadata": {},
   "source": [
    "# M Mahadev   AM.EN.U4AIE20045"
   ]
  },
  {
   "cell_type": "markdown",
   "metadata": {},
   "source": [
    "Longest Common Prefix"
   ]
  },
  {
   "cell_type": "code",
   "execution_count": 12,
   "metadata": {},
   "outputs": [],
   "source": [
    "\n",
    "def Construct_SuffixArray(Input_str, len_str):\n",
    "    Suffix_array = []\n",
    "    Suffix_Dict = {}\n",
    "    Suffix_DictReverse = {}\n",
    "    for i in range(len_str):\n",
    "        permutation = Input_str[i:len_str]\n",
    "        Suffix_Dict[i] = permutation\n",
    "        Suffix_DictReverse[permutation] = i\n",
    "    orderedList = sorted(Suffix_Dict.values())\n",
    "    numberOfElements = len(orderedList)\n",
    "    for i in orderedList:\n",
    "        Suffix_array.append(Suffix_DictReverse[i])\n",
    "    return Suffix_array"
   ]
  },
  {
   "cell_type": "code",
   "execution_count": 13,
   "metadata": {},
   "outputs": [],
   "source": [
    "def inverse_array(l):\n",
    "    n = len(l)\n",
    "    ans = [0] * n\n",
    "    for i in range(n):\n",
    "        ans[l[i]] = i\n",
    "    return ans\n",
    "\n",
    "def suffix_array_naive(s):\n",
    "    return inverse_array(Construct_SuffixArray(text,len(text)))\n"
   ]
  },
  {
   "cell_type": "code",
   "execution_count": 14,
   "metadata": {},
   "outputs": [],
   "source": [
    "def longestCommonPrefix(strs):\n",
    "    if len(strs) == 0:\n",
    "        return \"\"\n",
    "    current = strs[0]\n",
    "    for i in range(1, len(strs)):\n",
    "        temp = \"\"\n",
    "        if len(current) == 0:\n",
    "            break\n",
    "        for j in range(len(strs[i])):\n",
    "            if j < len(current) and current[j] == strs[i][j]:\n",
    "                temp += current[j]\n",
    "            else:\n",
    "                break\n",
    "        current = temp\n",
    "    return len(current)"
   ]
  },
  {
   "cell_type": "code",
   "execution_count": 15,
   "metadata": {},
   "outputs": [],
   "source": [
    "def Construct_LCP_array(suffix_array, input_string):\n",
    "    \n",
    "    ordered_list = []\n",
    "    for i in suffix_array:\n",
    "        ordered_list.append(input_string[i:])\n",
    "    list3 = [0]*len(ordered_list)\n",
    "    for i in range(0 , len(ordered_list)):\n",
    "        if i==0:\n",
    "            list3[i]=0\n",
    "        else:\n",
    "            strs=[ordered_list[i], ordered_list[i-1]]\n",
    "            list3[i]=longestCommonPrefix(strs)\n",
    "    return list3"
   ]
  },
  {
   "cell_type": "code",
   "execution_count": 16,
   "metadata": {},
   "outputs": [],
   "source": [
    "def longest_common_substring(text):\n",
    "    sa=Construct_SuffixArray(text,len(text))\n",
    "    rsa=suffix_array_naive(text)\n",
    "    lcp=Construct_LCP_array(sa,text)\n",
    "    maxlen = max(lcp)\n",
    "    result = {}\n",
    "    for i in range(1, len(text)):\n",
    "        if lcp[i] == maxlen:\n",
    "            j1, j2, h = sa[i - 1], sa[i], lcp[i]\n",
    "            assert text[j1:j1 + h] == text[j2:j2 + h],\"There is an assertion error\"\n",
    "            substring = text[j1:j1 + h]\n",
    "            if substring not in result:\n",
    "                result[substring] = [j1]\n",
    "            result[substring].append(j2)\n",
    "    return dict((k, sorted(v)) for k, v in result.items())\n",
    "\n",
    "\n",
    "\n",
    "\n"
   ]
  },
  {
   "cell_type": "code",
   "execution_count": 17,
   "metadata": {},
   "outputs": [
    {
     "name": "stdout",
     "output_type": "stream",
     "text": [
      "Enter the string: banana\n",
      "Longest common substrings in \"banana \" are:\n",
      "{'ana': [1, 3]}\n"
     ]
    }
   ],
   "source": [
    "\n",
    "if __name__ == '__main__':\n",
    "    text =input(\"Enter the string: \")\n",
    "    result = longest_common_substring(text)\n",
    "    print('Longest common substrings in \"{0} \" are:\\n{1}'.format(\n",
    "        text[:20], result))"
   ]
  },
  {
   "cell_type": "markdown",
   "metadata": {},
   "source": [
    " "
   ]
  },
  {
   "cell_type": "markdown",
   "metadata": {},
   "source": [
    "# Marasani Jayasurya  AM.EN.U4AIE20048"
   ]
  },
  {
   "cell_type": "markdown",
   "metadata": {},
   "source": [
    "## Finding longest palindromic  substring"
   ]
  },
  {
   "cell_type": "markdown",
   "metadata": {},
   "source": [
    "Method 1 : Brute Force method"
   ]
  },
  {
   "cell_type": "code",
   "execution_count": 22,
   "metadata": {},
   "outputs": [],
   "source": [
    "def longestPalSubstr(str):\n",
    "    n = len(str)\n",
    "    maxLength = 1\n",
    "    start = 0\n",
    "    for i in range(n):\n",
    "        for j in range(i, n):\n",
    "            flag = 1\n",
    "            for k in range(0, ((j - i) // 2) + 1):\n",
    "                if (str[i + k] != str[j - k]):\n",
    "                    flag = 0\n",
    "            if (flag != 0 and (j - i + 1) > maxLength):\n",
    "                start = i\n",
    "                maxLength = j - i + 1           \n",
    "    print(\"Longest palindrome subString is: \")\n",
    "    s1 =''\n",
    "    for i in range(start, start + maxLength):\n",
    "        s1 = s1 + str[i]\n",
    "    return s1, len(s1)"
   ]
  },
  {
   "cell_type": "code",
   "execution_count": 23,
   "metadata": {},
   "outputs": [
    {
     "name": "stdout",
     "output_type": "stream",
     "text": [
      "Enter the string: banana\n",
      "Longest palindrome subString is: \n",
      "('anana', 5)\n"
     ]
    }
   ],
   "source": [
    "s = input('Enter the string: ')\n",
    "print(longestPalSubstr(s))"
   ]
  },
  {
   "cell_type": "markdown",
   "metadata": {},
   "source": [
    "Method 2 : Using Suffix Array"
   ]
  },
  {
   "cell_type": "code",
   "execution_count": 24,
   "metadata": {},
   "outputs": [
    {
     "name": "stdout",
     "output_type": "stream",
     "text": [
      "Enter the String:\n",
      "banana\n",
      "banana\n"
     ]
    }
   ],
   "source": [
    "s = input('Enter the String:\\n')\n",
    "print(s)\n"
   ]
  },
  {
   "cell_type": "code",
   "execution_count": 25,
   "metadata": {},
   "outputs": [
    {
     "data": {
      "text/plain": [
       "'banana#ananab'"
      ]
     },
     "execution_count": 25,
     "metadata": {},
     "output_type": "execute_result"
    }
   ],
   "source": [
    "s_new = s + '#' + s[::-1]\n",
    "s_new"
   ]
  },
  {
   "cell_type": "code",
   "execution_count": 26,
   "metadata": {},
   "outputs": [],
   "source": [
    "def suffix_array_alternative_naive(s):\n",
    "    return [rank for suffix, rank in sorted((s[i:], i) for i in range(len(s)))]"
   ]
  },
  {
   "cell_type": "code",
   "execution_count": 30,
   "metadata": {},
   "outputs": [],
   "source": [
    "def LCP(sa , s_new):\n",
    "    size = len(s_new)\n",
    "    r = [None]* size\n",
    "    for i in range(size):\n",
    "        r[sa[i]] = i\n",
    "    lcp = [None]*size\n",
    "    h = 0\n",
    "\n",
    "    for i in range(size):\n",
    "        if r[i] > 0:\n",
    "            j = sa [r[i] - 1]\n",
    "            while i != size-h and j!= size-h and s_new[i+h] == s_new[j+h]:\n",
    "                h = h+1\n",
    "            lcp[r[i]] =h\n",
    "            if h > 0:\n",
    "                h = h - 1\n",
    "    if size>0:\n",
    "        lcp[0] = 0\n",
    "    return lcp\n"
   ]
  },
  {
   "cell_type": "code",
   "execution_count": 31,
   "metadata": {},
   "outputs": [
    {
     "name": "stdout",
     "output_type": "stream",
     "text": [
      "[6, 5, 11, 3, 9, 1, 7, 12, 0, 4, 10, 2, 8]\n",
      "#ananab\n",
      "a#ananab\n",
      "ab\n",
      "ana#ananab\n",
      "anab\n",
      "anana#ananab\n",
      "ananab\n",
      "b\n",
      "banana#ananab\n",
      "na#ananab\n",
      "nab\n",
      "nana#ananab\n",
      "nanab\n"
     ]
    }
   ],
   "source": [
    "sa = suffix_array_alternative_naive(s_new)\n",
    "print(sa)\n",
    "for i in range (len(s_new)):\n",
    "    print(s_new[sa[i]:])"
   ]
  },
  {
   "cell_type": "code",
   "execution_count": 32,
   "metadata": {},
   "outputs": [
    {
     "data": {
      "text/plain": [
       "[0, 0, 1, 1, 3, 3, 5, 0, 1, 0, 2, 2, 4]"
      ]
     },
     "execution_count": 32,
     "metadata": {},
     "output_type": "execute_result"
    }
   ],
   "source": [
    "lcp = LCP(sa,s_new)\n",
    "lcp"
   ]
  },
  {
   "cell_type": "code",
   "execution_count": 33,
   "metadata": {},
   "outputs": [],
   "source": [
    "def longestCommonPrefix(strs):\n",
    "    if len(strs) == 0:\n",
    "        return \"\"\n",
    "    current = strs[0]\n",
    "    for i in range(1, len(strs)):\n",
    "        temp = \"\"\n",
    "        if len(current) == 0:\n",
    "            break\n",
    "        for j in range(len(strs[i])):\n",
    "            if j < len(current) and current[j] == strs[i][j]:\n",
    "                temp += current[j]\n",
    "            else:\n",
    "                break\n",
    "        current = temp\n",
    "    return current"
   ]
  },
  {
   "cell_type": "code",
   "execution_count": 34,
   "metadata": {},
   "outputs": [
    {
     "name": "stdout",
     "output_type": "stream",
     "text": [
      "calculating longest prefixes between a#ananab and ab\n",
      "longest prefix between them is \"a\"\n",
      "The length is = 1\n",
      "Position =  11\n",
      "calculating longest prefixes between ana#ananab and anab\n",
      "longest prefix between them is \"ana\"\n",
      "The length is = 3\n",
      "Position =  9\n",
      "calculating longest prefixes between anana#ananab and ananab\n",
      "longest prefix between them is \"anana\"\n",
      "The length is = 5\n",
      "Position =  7\n",
      "Length of Longest Palindrome is =  5\n",
      "Longest Palindrome is =  anana\n"
     ]
    }
   ],
   "source": [
    "length_of_longest_palindrome = 0\n",
    "longest_length = 0\n",
    "Len = len(s_new)   # Length of updated string\n",
    "actual_len = len(s) # Length of original string\n",
    "Position = 0\n",
    "strs = [None]*2\n",
    "for i in range(1,Len):\n",
    "    \n",
    "    if lcp[i]>longest_length:\n",
    "        if(sa[i-1]<actual_len and sa[i]>actual_len) or (sa[i]<actual_len and sa[i-1]>actual_len):\n",
    "            print('calculating longest prefixes between {a} and {b}'.format(a = s_new[sa[i-1]:], b = s_new[sa[i]:]))\n",
    "            strs[0] = s_new[sa[i-1]:]\n",
    "            strs[1] = s_new[sa[i]:]\n",
    "            longest_length = lcp[i]\n",
    "            print('longest prefix between them is \"{}\"'.format(longestCommonPrefix(strs)))\n",
    "            print('The length is = {}'.format(longest_length))\n",
    "            Position = sa[i]\n",
    "            print(\"Position = \",Position)\n",
    "\n",
    "length_of_longest_palindrome = longest_length\n",
    "longest_palindrome = s_new[Position:Position+longest_length]\n",
    "print('Length of Longest Palindrome is = ',length_of_longest_palindrome)\n",
    "print('Longest Palindrome is = ',longest_palindrome)\n",
    "            "
   ]
  },
  {
   "cell_type": "markdown",
   "metadata": {},
   "source": [
    " "
   ]
  },
  {
   "cell_type": "markdown",
   "metadata": {},
   "source": [
    "## Algorithm to detect Long armed gapped palindrome"
   ]
  },
  {
   "cell_type": "code",
   "execution_count": 35,
   "metadata": {},
   "outputs": [
    {
     "name": "stdout",
     "output_type": "stream",
     "text": [
      "Enter the DNA sequence:GCATTTATGC\n",
      "The inverted suffix array is:\n",
      "\n",
      "[1, 10, '#', 0]\n",
      "[2, 10, '$', 0]\n",
      "[2, 4, 'AAATGC$', 2]\n",
      "[2, 5, 'AATGC$', 1]\n",
      "[2, 2, 'ATAAATGC$', 2]\n",
      "[1, 6, 'ATGC#', 4]\n",
      "[2, 6, 'ATGC$', 2]\n",
      "[1, 2, 'ATTTATGC#', 0]\n",
      "[1, 9, 'C#', 1]\n",
      "[2, 9, 'C$', 1]\n",
      "[2, 1, 'CATAAATGC$', 3]\n",
      "[1, 1, 'CATTTATGC#', 0]\n",
      "[1, 8, 'GC#', 2]\n",
      "[2, 8, 'GC$', 2]\n",
      "[2, 0, 'GCATAAATGC$', 4]\n",
      "[1, 0, 'GCATTTATGC#', 0]\n",
      "[2, 3, 'TAAATGC$', 2]\n",
      "[1, 5, 'TATGC#', 1]\n",
      "[1, 7, 'TGC#', 3]\n",
      "[2, 7, 'TGC$', 1]\n",
      "[1, 4, 'TTATGC#', 2]\n",
      "[1, 3, 'TTTATGC#', 0]\n"
     ]
    }
   ],
   "source": [
    "def complement(seq):\n",
    "    complement = {'A': 'T', 'C': 'G', 'G': 'C', 'T': 'A'}\n",
    "    bases = [str(i) for i in seq]\n",
    "    bases = [complement[base] for base in bases]\n",
    "    compliment= ''.join(bases)\n",
    "    reverse_compliment=compliment[::-1]\n",
    "    return seq,reverse_compliment\n",
    "\n",
    "def add_charectors(seq,reverse_compliment):\n",
    "    seq+= '#'\n",
    "    reverse_compliment+='$'\n",
    "    return seq,reverse_compliment\n",
    "\n",
    "\n",
    "\n",
    "def Construct_SuffixArray(str_1, str_2):\n",
    "    list1=[]\n",
    "    string_id={}\n",
    "    suffix_dict={}\n",
    "    len_str=len(str_1)\n",
    "    for i in range(len_str):\n",
    "        permutation1 = str_1[i:len_str]\n",
    "        permutation2 = str_2[i:len_str]\n",
    "        list1.append(permutation1)\n",
    "        list1.append(permutation2)\n",
    "        suffix_dict[permutation1]=i\n",
    "        suffix_dict[permutation2]=i\n",
    "        string_id[permutation1]=1\n",
    "        string_id[permutation2]=2\n",
    "    \n",
    "    ordered_list=sorted(list1)\n",
    "    list2 = [[string_id[i],i] for i in ordered_list]\n",
    "    list3 = []\n",
    "    for i in list2:\n",
    "        list3.append([i[0],suffix_dict[i[1]],i[1]])\n",
    "\n",
    "    for i in range(0 , len(ordered_list)):\n",
    "        if len(ordered_list)-1 == i:\n",
    "            list3[i].append(0)\n",
    "        else:\n",
    "            strs=[ordered_list[i], ordered_list[i+1]]\n",
    "            list3[i].append(longestCommonPrefix(strs))\n",
    "    return list3\n",
    "\n",
    "def longestCommonPrefix(strs):\n",
    "    if len(strs) == 0:\n",
    "        return \"\"\n",
    "    current = strs[0]\n",
    "    for i in range(1, len(strs)):\n",
    "        temp = \"\"\n",
    "        if len(current) == 0:\n",
    "            break\n",
    "        for j in range(len(strs[i])):\n",
    "            if j < len(current) and current[j] == strs[i][j]:\n",
    "                temp += current[j]\n",
    "            else:\n",
    "                break\n",
    "        current = temp\n",
    "    return len(current)\n",
    "\n",
    "\n",
    "\n",
    "seq,rev=complement(input('Enter the DNA sequence:')) # GCATTTATGC , CGCTGTAGCG, \n",
    "seq1,rev1=add_charectors(seq,rev)\n",
    "inverted_sa= Construct_SuffixArray(seq1,rev1)\n",
    "print('The inverted suffix array is:\\n')\n",
    "for i in inverted_sa:\n",
    "    print(i)\n"
   ]
  },
  {
   "cell_type": "markdown",
   "metadata": {},
   "source": [
    "Finding maximum Lcp indexes corresponding to the maximum LCP length"
   ]
  },
  {
   "cell_type": "code",
   "execution_count": 36,
   "metadata": {},
   "outputs": [
    {
     "name": "stdout",
     "output_type": "stream",
     "text": [
      "[6, 0]\n"
     ]
    }
   ],
   "source": [
    "max_LCP = max(inverted_sa,key = lambda x: x[3])[3]\n",
    "max_LCP_indexes = []\n",
    "for i in inverted_sa:\n",
    "    if i[3]==max_LCP and i[0]==1:\n",
    "        max_LCP_indexes.append(i[1])\n",
    "    elif i[3]==max_LCP and i[0]==2:\n",
    "        max_LCP_indexes.append(i[1])\n",
    "print(max_LCP_indexes)\n"
   ]
  },
  {
   "cell_type": "code",
   "execution_count": 37,
   "metadata": {},
   "outputs": [
    {
     "name": "stdout",
     "output_type": "stream",
     "text": [
      "Complementary\n"
     ]
    }
   ],
   "source": [
    "from Bio.Seq import Seq\n",
    "\n",
    "i = min(max_LCP_indexes)\n",
    "j = max(max_LCP_indexes)\n",
    "wi=''\n",
    "wj=''\n",
    "while(i<j):\n",
    "    a = i-max_LCP\n",
    "    b = i-1\n",
    "    if a>=0 and b>=0 and b>a:\n",
    "        wi =''\n",
    "        wi = seq[0:i]\n",
    "        if(wi==rev[a:b+1]):\n",
    "            wi = wi[::-1]\n",
    "            break\n",
    "    i = i+1\n",
    "while i<j:\n",
    "    a = j+max_LCP-1\n",
    "    if a<len(seq):\n",
    "        wj=''\n",
    "        wj=seq[j:]\n",
    "        if wj==rev[j:a+1]:\n",
    "            break\n",
    "    j = j-1\n",
    "wj = Seq(wj)\n",
    "flag = -1\n",
    "if wi == wj.complement():\n",
    "    print('Complementary')\n",
    "    flag = 1"
   ]
  },
  {
   "cell_type": "markdown",
   "metadata": {},
   "source": [
    "Verifying Spacer Length Constraints"
   ]
  },
  {
   "cell_type": "code",
   "execution_count": 38,
   "metadata": {},
   "outputs": [
    {
     "name": "stdout",
     "output_type": "stream",
     "text": [
      "The sequence GCATTTATGC is long armed gapped palindrome\n",
      "spacer length =  2\n",
      "palindrome arm length =  4\n"
     ]
    }
   ],
   "source": [
    "\n",
    "if j-i<= max_LCP and flag ==1:\n",
    "    print('The sequence {} is long armed gapped palindrome'.format(seq))\n",
    "    print('spacer length = ',j-i)\n",
    "    print('palindrome arm length = ',len(wi))"
   ]
  },
  {
   "cell_type": "markdown",
   "metadata": {},
   "source": [
    " "
   ]
  },
  {
   "cell_type": "markdown",
   "metadata": {},
   "source": [
    "##  ALGORITHM TO DETECT LENGTH CONSTRAINED GAPPED PALINDROMES"
   ]
  },
  {
   "cell_type": "code",
   "execution_count": 40,
   "metadata": {},
   "outputs": [
    {
     "name": "stdout",
     "output_type": "stream",
     "text": [
      "Enter the DNA sequence:GCATTTATGC\n",
      "The inverted suffix array is:\n",
      "\n",
      "[1, 10, '#', 0]\n",
      "[2, 10, '$', 0]\n",
      "[2, 4, 'AAATGC$', 2]\n",
      "[2, 5, 'AATGC$', 1]\n",
      "[2, 2, 'ATAAATGC$', 2]\n",
      "[1, 6, 'ATGC#', 4]\n",
      "[2, 6, 'ATGC$', 2]\n",
      "[1, 2, 'ATTTATGC#', 0]\n",
      "[1, 9, 'C#', 1]\n",
      "[2, 9, 'C$', 1]\n",
      "[2, 1, 'CATAAATGC$', 3]\n",
      "[1, 1, 'CATTTATGC#', 0]\n",
      "[1, 8, 'GC#', 2]\n",
      "[2, 8, 'GC$', 2]\n",
      "[2, 0, 'GCATAAATGC$', 4]\n",
      "[1, 0, 'GCATTTATGC#', 0]\n",
      "[2, 3, 'TAAATGC$', 2]\n",
      "[1, 5, 'TATGC#', 1]\n",
      "[1, 7, 'TGC#', 3]\n",
      "[2, 7, 'TGC$', 1]\n",
      "[1, 4, 'TTATGC#', 2]\n",
      "[1, 3, 'TTTATGC#', 0]\n"
     ]
    }
   ],
   "source": [
    "def complement(seq):\n",
    "    complement = {'A': 'T', 'C': 'G', 'G': 'C', 'T': 'A'}\n",
    "    bases = [str(i) for i in seq]\n",
    "    bases = [complement[base] for base in bases]\n",
    "    compliment= ''.join(bases)\n",
    "    reverse_compliment=compliment[::-1]\n",
    "    return seq,reverse_compliment\n",
    "\n",
    "def add_charectors(seq,reverse_compliment):\n",
    "    seq+= '#'\n",
    "    reverse_compliment+='$'\n",
    "    return seq,reverse_compliment\n",
    "\n",
    "\n",
    "\n",
    "def Construct_SuffixArray(str_1, str_2):\n",
    "    list1=[]\n",
    "    string_id={}\n",
    "    suffix_dict={}\n",
    "    len_str=len(str_1)\n",
    "    for i in range(len_str):\n",
    "        permutation1 = str_1[i:len_str]\n",
    "        permutation2 = str_2[i:len_str]\n",
    "        list1.append(permutation1)\n",
    "        list1.append(permutation2)\n",
    "        suffix_dict[permutation1]=i\n",
    "        suffix_dict[permutation2]=i\n",
    "        string_id[permutation1]=1\n",
    "        string_id[permutation2]=2\n",
    "    \n",
    "    ordered_list=sorted(list1)\n",
    "    list2 = [[string_id[i],i] for i in ordered_list]\n",
    "    list3 = []\n",
    "    for i in list2:\n",
    "        list3.append([i[0],suffix_dict[i[1]],i[1]])\n",
    "\n",
    "    for i in range(0 , len(ordered_list)):\n",
    "        if len(ordered_list)-1 == i:\n",
    "            list3[i].append(0)\n",
    "        else:\n",
    "            strs=[ordered_list[i], ordered_list[i+1]]\n",
    "            list3[i].append(longestCommonPrefix(strs))\n",
    "    return list3\n",
    "\n",
    "def longestCommonPrefix(strs):\n",
    "    if len(strs) == 0:\n",
    "        return \"\"\n",
    "    current = strs[0]\n",
    "    for i in range(1, len(strs)):\n",
    "        temp = \"\"\n",
    "        if len(current) == 0:\n",
    "            break\n",
    "        for j in range(len(strs[i])):\n",
    "            if j < len(current) and current[j] == strs[i][j]:\n",
    "                temp += current[j]\n",
    "            else:\n",
    "                break\n",
    "        current = temp\n",
    "    return len(current)\n",
    "\n",
    "\n",
    "\n",
    "seq,rev=complement(input('Enter the DNA sequence:')) # GCATTTATGC , CGCTGTAGCG, \n",
    "seq1,rev1=add_charectors(seq,rev)\n",
    "inverted_sa= Construct_SuffixArray(seq1,rev1)\n",
    "print('The inverted suffix array is:\\n')\n",
    "for i in inverted_sa:\n",
    "    print(i)\n"
   ]
  },
  {
   "cell_type": "code",
   "execution_count": 41,
   "metadata": {},
   "outputs": [],
   "source": [
    "# These are constants that are predefined\n",
    "minarm = 3\n",
    "maxgap = 5\n",
    "mingap = 3         "
   ]
  },
  {
   "cell_type": "code",
   "execution_count": 42,
   "metadata": {},
   "outputs": [
    {
     "name": "stdout",
     "output_type": "stream",
     "text": [
      "[1, 7]\n"
     ]
    }
   ],
   "source": [
    "minarm_indexes = []\n",
    "for k in inverted_sa:\n",
    "    if k[3]==minarm:\n",
    "        minarm_indexes.append(k[1])\n",
    "print(minarm_indexes)"
   ]
  },
  {
   "cell_type": "markdown",
   "metadata": {},
   "source": [
    "Verify Palindrome Arm  Constraints"
   ]
  },
  {
   "cell_type": "code",
   "execution_count": 43,
   "metadata": {},
   "outputs": [
    {
     "name": "stdout",
     "output_type": "stream",
     "text": [
      "Complementary\n"
     ]
    }
   ],
   "source": [
    "i = min(minarm_indexes)\n",
    "j = max(minarm_indexes)\n",
    "wi=''\n",
    "wj=''\n",
    "while(i<j):\n",
    "    a = i-minarm\n",
    "    b = i-1\n",
    "    if a>=0 and b>=0 and b>a:\n",
    "        wi = ''\n",
    "        wi = seq[0:i]\n",
    "        if(wi==rev[a:b+1]):\n",
    "            wi = wi[::-1]\n",
    "            break\n",
    "    i = i+1\n",
    "\n",
    "while i<j:\n",
    "    a = j+minarm-1\n",
    "    if a<len(seq):\n",
    "        wj=''\n",
    "        wj=seq[j:]\n",
    "        if wj==rev[j:a+1]:\n",
    "            break\n",
    "    j = j-1\n",
    "wj = Seq(wj)\n",
    "falg =-1\n",
    "if wi == wj.complement():\n",
    "    print('Complementary')\n",
    "    flag = 1        "
   ]
  },
  {
   "cell_type": "markdown",
   "metadata": {},
   "source": [
    "Veryfying Spacer Length Constraints"
   ]
  },
  {
   "cell_type": "code",
   "execution_count": 44,
   "metadata": {},
   "outputs": [
    {
     "name": "stdout",
     "output_type": "stream",
     "text": [
      "The sequence GCATTTATGC is length constrained gapped palindrome\n",
      "spacer length =  4\n",
      "palindrome arm length =  3\n"
     ]
    }
   ],
   "source": [
    "if mingap <= j-i and j-i <=maxgap and flag ==1:\n",
    "    print('The sequence {} is length constrained gapped palindrome'.format(seq))\n",
    "    print('spacer length = ',j-i)\n",
    "    print('palindrome arm length = ',len(wi))"
   ]
  },
  {
   "cell_type": "code",
   "execution_count": null,
   "metadata": {},
   "outputs": [],
   "source": []
  }
 ],
 "metadata": {
  "kernelspec": {
   "display_name": "Python 3",
   "language": "python",
   "name": "python3"
  },
  "language_info": {
   "codemirror_mode": {
    "name": "ipython",
    "version": 3
   },
   "file_extension": ".py",
   "mimetype": "text/x-python",
   "name": "python",
   "nbconvert_exporter": "python",
   "pygments_lexer": "ipython3",
   "version": "3.10.1"
  }
 },
 "nbformat": 4,
 "nbformat_minor": 4
}
