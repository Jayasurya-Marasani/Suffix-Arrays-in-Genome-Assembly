{
 "cells": [
  {
   "cell_type": "code",
   "execution_count": 9,
   "metadata": {},
   "outputs": [
    {
     "name": "stdout",
     "output_type": "stream",
     "text": [
      "The inverted suffix array is:\n",
      "\n",
      "[1, 10, '#', 0]\n",
      "[2, 10, '$', 0]\n",
      "[2, 4, 'AAATGC$', 2]\n",
      "[2, 5, 'AATGC$', 1]\n",
      "[2, 2, 'ATAAATGC$', 2]\n",
      "[1, 6, 'ATGC#', 4]\n",
      "[2, 6, 'ATGC$', 2]\n",
      "[1, 2, 'ATTTATGC#', 0]\n",
      "[1, 9, 'C#', 1]\n",
      "[2, 9, 'C$', 1]\n",
      "[2, 1, 'CATAAATGC$', 3]\n",
      "[1, 1, 'CATTTATGC#', 0]\n",
      "[1, 8, 'GC#', 2]\n",
      "[2, 8, 'GC$', 2]\n",
      "[2, 0, 'GCATAAATGC$', 4]\n",
      "[1, 0, 'GCATTTATGC#', 0]\n",
      "[2, 3, 'TAAATGC$', 2]\n",
      "[1, 5, 'TATGC#', 1]\n",
      "[1, 7, 'TGC#', 3]\n",
      "[2, 7, 'TGC$', 1]\n",
      "[1, 4, 'TTATGC#', 2]\n",
      "[1, 3, 'TTTATGC#', 0]\n"
     ]
    }
   ],
   "source": [
    "def complement(seq):\n",
    "    complement = {'A': 'T', 'C': 'G', 'G': 'C', 'T': 'A'}\n",
    "    bases = [str(i) for i in seq]\n",
    "    bases = [complement[base] for base in bases]\n",
    "    compliment= ''.join(bases)\n",
    "    reverse_compliment=compliment[::-1]\n",
    "    return seq,reverse_compliment\n",
    "\n",
    "def add_charectors(seq,reverse_compliment):\n",
    "    seq+= '#'\n",
    "    reverse_compliment+='$'\n",
    "    return seq,reverse_compliment\n",
    "\n",
    "\n",
    "\n",
    "def Construct_SuffixArray(str_1, str_2):\n",
    "    list1=[]\n",
    "    string_id={}\n",
    "    suffix_dict={}\n",
    "    len_str=len(str_1)\n",
    "    for i in range(len_str):\n",
    "        permutation1 = str_1[i:len_str]\n",
    "        permutation2 = str_2[i:len_str]\n",
    "        list1.append(permutation1)\n",
    "        list1.append(permutation2)\n",
    "        suffix_dict[permutation1]=i\n",
    "        suffix_dict[permutation2]=i\n",
    "        string_id[permutation1]=1\n",
    "        string_id[permutation2]=2\n",
    "    \n",
    "    ordered_list=sorted(list1)\n",
    "    list2 = [[string_id[i],i] for i in ordered_list]\n",
    "    list3 = []\n",
    "    for i in list2:\n",
    "        list3.append([i[0],suffix_dict[i[1]],i[1]])\n",
    "\n",
    "    for i in range(0 , len(ordered_list)):\n",
    "        if len(ordered_list)-1 == i:\n",
    "            list3[i].append(0)\n",
    "        else:\n",
    "            strs=[ordered_list[i], ordered_list[i+1]]\n",
    "            list3[i].append(longestCommonPrefix(strs))\n",
    "    return list3\n",
    "\n",
    "def longestCommonPrefix(strs):\n",
    "    if len(strs) == 0:\n",
    "        return \"\"\n",
    "    current = strs[0]\n",
    "    for i in range(1, len(strs)):\n",
    "        temp = \"\"\n",
    "        if len(current) == 0:\n",
    "            break\n",
    "        for j in range(len(strs[i])):\n",
    "            if j < len(current) and current[j] == strs[i][j]:\n",
    "                temp += current[j]\n",
    "            else:\n",
    "                break\n",
    "        current = temp\n",
    "    return len(current)\n",
    "\n",
    "\n",
    "\n",
    "seq,rev=complement(input('Enter the DNA sequence:')) # GCATTTATGC , CGCTGTAGCG, \n",
    "seq1,rev1=add_charectors(seq,rev)\n",
    "inverted_sa= Construct_SuffixArray(seq1,rev1)\n",
    "print('The inverted suffix array is:\\n')\n",
    "for i in inverted_sa:\n",
    "    print(i)\n"
   ]
  },
  {
   "cell_type": "markdown",
   "metadata": {},
   "source": [
    "## ALGORITHM TO DETECT LONG ARMED GAPPED PALINDROMES"
   ]
  },
  {
   "cell_type": "markdown",
   "metadata": {},
   "source": [
    "Finding Maximum LCP indexes corresponding to Maximum LCP Length"
   ]
  },
  {
   "cell_type": "code",
   "execution_count": 10,
   "metadata": {},
   "outputs": [
    {
     "name": "stdout",
     "output_type": "stream",
     "text": [
      "[6, 0]\n"
     ]
    }
   ],
   "source": [
    "max_LCP = max(inverted_sa,key = lambda x: x[3])[3]\n",
    "max_LCP_indexes = []\n",
    "for i in inverted_sa:\n",
    "    if i[3]==max_LCP and i[0]==1:\n",
    "        max_LCP_indexes.append(i[1])\n",
    "    elif i[3]==max_LCP and i[0]==2:\n",
    "        max_LCP_indexes.append(i[1])\n",
    "print(max_LCP_indexes)\n"
   ]
  },
  {
   "cell_type": "markdown",
   "metadata": {},
   "source": [
    "Verifying Length Constraints"
   ]
  },
  {
   "cell_type": "code",
   "execution_count": 11,
   "metadata": {},
   "outputs": [
    {
     "name": "stdout",
     "output_type": "stream",
     "text": [
      "Complementary\n"
     ]
    }
   ],
   "source": [
    "from Bio.Seq import Seq\n",
    "\n",
    "i = min(max_LCP_indexes)\n",
    "j = max(max_LCP_indexes)\n",
    "wi=''\n",
    "wj=''\n",
    "while(i<j):\n",
    "    a = i-max_LCP\n",
    "    b = i-1\n",
    "    if a>=0 and b>=0 and b>a:\n",
    "        wi =''\n",
    "        wi = seq[0:i]\n",
    "        if(wi==rev[a:b+1]):\n",
    "            wi = wi[::-1]\n",
    "            break\n",
    "    i = i+1\n",
    "while i<j:\n",
    "    a = j+max_LCP-1\n",
    "    if a<len(seq):\n",
    "        wj=''\n",
    "        wj=seq[j:]\n",
    "        if wj==rev[j:a+1]:\n",
    "            break\n",
    "    j = j-1\n",
    "wj = Seq(wj)\n",
    "flag = -1\n",
    "if wi == wj.complement():\n",
    "    print('Complementary')\n",
    "    flag = 1"
   ]
  },
  {
   "cell_type": "markdown",
   "metadata": {},
   "source": [
    "Verifying Spacer Length Constraints"
   ]
  },
  {
   "cell_type": "code",
   "execution_count": 12,
   "metadata": {},
   "outputs": [
    {
     "name": "stdout",
     "output_type": "stream",
     "text": [
      "The sequence GCATTTATGC is long armed gapped palindrome\n",
      "spacer length =  2\n",
      "palindrome arm length =  4\n"
     ]
    }
   ],
   "source": [
    "\n",
    "if j-i<= max_LCP and flag ==1:\n",
    "    print('The sequence {} is long armed gapped palindrome'.format(seq))\n",
    "    print('spacer length = ',j-i)\n",
    "    print('palindrome arm length = ',len(wi))"
   ]
  },
  {
   "cell_type": "markdown",
   "metadata": {},
   "source": [
    "## ALGORITHM TO DETECT LENGTH CONSTRAINED GAPPED PALINDROMES"
   ]
  },
  {
   "cell_type": "code",
   "execution_count": 13,
   "metadata": {},
   "outputs": [],
   "source": [
    "# These are constants that are predefined\n",
    "minarm = 3\n",
    "maxgap = 5\n",
    "mingap = 3         "
   ]
  },
  {
   "cell_type": "code",
   "execution_count": 14,
   "metadata": {},
   "outputs": [
    {
     "name": "stdout",
     "output_type": "stream",
     "text": [
      "[1, 7]\n"
     ]
    }
   ],
   "source": [
    "minarm_indexes = []\n",
    "for k in inverted_sa:\n",
    "    if k[3]==minarm:\n",
    "        minarm_indexes.append(k[1])\n",
    "print(minarm_indexes)"
   ]
  },
  {
   "cell_type": "markdown",
   "metadata": {},
   "source": [
    "Verify Plaindrome Arm Constraints"
   ]
  },
  {
   "cell_type": "code",
   "execution_count": 15,
   "metadata": {},
   "outputs": [
    {
     "name": "stdout",
     "output_type": "stream",
     "text": [
      "Complementary\n"
     ]
    }
   ],
   "source": [
    "i = min(minarm_indexes)\n",
    "j = max(minarm_indexes)\n",
    "wi=''\n",
    "wj=''\n",
    "while(i<j):\n",
    "    a = i-minarm\n",
    "    b = i-1\n",
    "    if a>=0 and b>=0 and b>a:\n",
    "        wi = ''\n",
    "        wi = seq[0:i]\n",
    "        if(wi==rev[a:b+1]):\n",
    "            wi = wi[::-1]\n",
    "            break\n",
    "    i = i+1\n",
    "\n",
    "while i<j:\n",
    "    a = j+minarm-1\n",
    "    if a<len(seq):\n",
    "        wj=''\n",
    "        wj=seq[j:]\n",
    "        if wj==rev[j:a+1]:\n",
    "            break\n",
    "    j = j-1\n",
    "wj = Seq(wj)\n",
    "falg =-1\n",
    "if wi == wj.complement():\n",
    "    print('Complementary')\n",
    "    flag = 1        "
   ]
  },
  {
   "cell_type": "markdown",
   "metadata": {},
   "source": [
    "Verifying Spacer Length Constraints"
   ]
  },
  {
   "cell_type": "code",
   "execution_count": 16,
   "metadata": {},
   "outputs": [
    {
     "name": "stdout",
     "output_type": "stream",
     "text": [
      "The sequence GCATTTATGC is length constrained gapped palindrome\n",
      "spacer length =  4\n",
      "palindrome arm length =  3\n"
     ]
    }
   ],
   "source": [
    "if mingap <= j-i and j-i <=maxgap and flag ==1:\n",
    "    print('The sequence {} is length constrained gapped palindrome'.format(seq))\n",
    "    print('spacer length = ',j-i)\n",
    "    print('palindrome arm length = ',len(wi))"
   ]
  }
 ],
 "metadata": {
  "interpreter": {
   "hash": "3dc8e47f82edb7463ca464588a7358a3d93aa0e55ce1d99dfe2c7a888c7afeb3"
  },
  "kernelspec": {
   "display_name": "Python 3.10.1 64-bit",
   "language": "python",
   "name": "python3"
  },
  "language_info": {
   "codemirror_mode": {
    "name": "ipython",
    "version": 3
   },
   "file_extension": ".py",
   "mimetype": "text/x-python",
   "name": "python",
   "nbconvert_exporter": "python",
   "pygments_lexer": "ipython3",
   "version": "3.10.1"
  },
  "orig_nbformat": 4
 },
 "nbformat": 4,
 "nbformat_minor": 2
}
